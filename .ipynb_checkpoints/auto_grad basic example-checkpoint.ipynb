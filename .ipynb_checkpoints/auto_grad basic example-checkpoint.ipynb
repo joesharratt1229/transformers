{
 "cells": [
  {
   "cell_type": "code",
   "execution_count": 1,
   "id": "3d509ae8",
   "metadata": {},
   "outputs": [],
   "source": [
    "import torch\n",
    "\n",
    "def describe_tensor(tensor, name=''):\n",
    "  # Helper function to explore the attributes of a tensor object\n",
    "  print('-' * 30)\n",
    "  print('Name: ', name)\n",
    "  print('-' * 30)\n",
    "  print('data : ', tensor.data)\n",
    "  print('requires_grad : ', tensor.requires_grad)\n",
    "  print('grad: ', tensor.grad)\n",
    "  print('grad_fn: ', tensor.grad_fn)\n",
    "  print('is_leaf: ', tensor.is_leaf)\n",
    "  print('=' * 30)\n",
    "    \n"
   ]
  },
  {
   "cell_type": "code",
   "execution_count": 2,
   "id": "600c71ff",
   "metadata": {},
   "outputs": [
    {
     "name": "stdout",
     "output_type": "stream",
     "text": [
      "------------------------------\n",
      "Name:  x\n",
      "------------------------------\n",
      "data :  tensor(1.)\n",
      "requires_grad :  False\n",
      "grad:  None\n",
      "grad_fn:  None\n",
      "is_leaf:  True\n",
      "==============================\n",
      "------------------------------\n",
      "Name:  y\n",
      "------------------------------\n",
      "data :  tensor(2.)\n",
      "requires_grad :  False\n",
      "grad:  None\n",
      "grad_fn:  None\n",
      "is_leaf:  True\n",
      "==============================\n",
      "------------------------------\n",
      "Name:  z\n",
      "------------------------------\n",
      "data :  tensor(2.)\n",
      "requires_grad :  False\n",
      "grad:  None\n",
      "grad_fn:  None\n",
      "is_leaf:  True\n",
      "==============================\n"
     ]
    },
    {
     "ename": "RuntimeError",
     "evalue": "element 0 of tensors does not require grad and does not have a grad_fn",
     "output_type": "error",
     "traceback": [
      "\u001b[0;31m---------------------------------------------------------------------------\u001b[0m",
      "\u001b[0;31mRuntimeError\u001b[0m                              Traceback (most recent call last)",
      "Cell \u001b[0;32mIn [2], line 12\u001b[0m\n\u001b[1;32m      9\u001b[0m z \u001b[38;5;241m=\u001b[39m x \u001b[38;5;241m*\u001b[39m y\n\u001b[1;32m     10\u001b[0m describe_tensor(z, name\u001b[38;5;241m=\u001b[39m\u001b[38;5;124m'\u001b[39m\u001b[38;5;124mz\u001b[39m\u001b[38;5;124m'\u001b[39m)\n\u001b[0;32m---> 12\u001b[0m \u001b[43mz\u001b[49m\u001b[38;5;241;43m.\u001b[39;49m\u001b[43mbackward\u001b[49m\u001b[43m(\u001b[49m\u001b[43m)\u001b[49m\n",
      "File \u001b[0;32m/opt/miniconda3/envs/torch/lib/python3.9/site-packages/torch/_tensor.py:396\u001b[0m, in \u001b[0;36mTensor.backward\u001b[0;34m(self, gradient, retain_graph, create_graph, inputs)\u001b[0m\n\u001b[1;32m    387\u001b[0m \u001b[38;5;28;01mif\u001b[39;00m has_torch_function_unary(\u001b[38;5;28mself\u001b[39m):\n\u001b[1;32m    388\u001b[0m     \u001b[38;5;28;01mreturn\u001b[39;00m handle_torch_function(\n\u001b[1;32m    389\u001b[0m         Tensor\u001b[38;5;241m.\u001b[39mbackward,\n\u001b[1;32m    390\u001b[0m         (\u001b[38;5;28mself\u001b[39m,),\n\u001b[0;32m   (...)\u001b[0m\n\u001b[1;32m    394\u001b[0m         create_graph\u001b[38;5;241m=\u001b[39mcreate_graph,\n\u001b[1;32m    395\u001b[0m         inputs\u001b[38;5;241m=\u001b[39minputs)\n\u001b[0;32m--> 396\u001b[0m \u001b[43mtorch\u001b[49m\u001b[38;5;241;43m.\u001b[39;49m\u001b[43mautograd\u001b[49m\u001b[38;5;241;43m.\u001b[39;49m\u001b[43mbackward\u001b[49m\u001b[43m(\u001b[49m\u001b[38;5;28;43mself\u001b[39;49m\u001b[43m,\u001b[49m\u001b[43m \u001b[49m\u001b[43mgradient\u001b[49m\u001b[43m,\u001b[49m\u001b[43m \u001b[49m\u001b[43mretain_graph\u001b[49m\u001b[43m,\u001b[49m\u001b[43m \u001b[49m\u001b[43mcreate_graph\u001b[49m\u001b[43m,\u001b[49m\u001b[43m \u001b[49m\u001b[43minputs\u001b[49m\u001b[38;5;241;43m=\u001b[39;49m\u001b[43minputs\u001b[49m\u001b[43m)\u001b[49m\n",
      "File \u001b[0;32m/opt/miniconda3/envs/torch/lib/python3.9/site-packages/torch/autograd/__init__.py:173\u001b[0m, in \u001b[0;36mbackward\u001b[0;34m(tensors, grad_tensors, retain_graph, create_graph, grad_variables, inputs)\u001b[0m\n\u001b[1;32m    168\u001b[0m     retain_graph \u001b[38;5;241m=\u001b[39m create_graph\n\u001b[1;32m    170\u001b[0m \u001b[38;5;66;03m# The reason we repeat same the comment below is that\u001b[39;00m\n\u001b[1;32m    171\u001b[0m \u001b[38;5;66;03m# some Python versions print out the first line of a multi-line function\u001b[39;00m\n\u001b[1;32m    172\u001b[0m \u001b[38;5;66;03m# calls in the traceback and some print out the last line\u001b[39;00m\n\u001b[0;32m--> 173\u001b[0m \u001b[43mVariable\u001b[49m\u001b[38;5;241;43m.\u001b[39;49m\u001b[43m_execution_engine\u001b[49m\u001b[38;5;241;43m.\u001b[39;49m\u001b[43mrun_backward\u001b[49m\u001b[43m(\u001b[49m\u001b[43m  \u001b[49m\u001b[38;5;66;43;03m# Calls into the C++ engine to run the backward pass\u001b[39;49;00m\n\u001b[1;32m    174\u001b[0m \u001b[43m    \u001b[49m\u001b[43mtensors\u001b[49m\u001b[43m,\u001b[49m\u001b[43m \u001b[49m\u001b[43mgrad_tensors_\u001b[49m\u001b[43m,\u001b[49m\u001b[43m \u001b[49m\u001b[43mretain_graph\u001b[49m\u001b[43m,\u001b[49m\u001b[43m \u001b[49m\u001b[43mcreate_graph\u001b[49m\u001b[43m,\u001b[49m\u001b[43m \u001b[49m\u001b[43minputs\u001b[49m\u001b[43m,\u001b[49m\n\u001b[1;32m    175\u001b[0m \u001b[43m    \u001b[49m\u001b[43mallow_unreachable\u001b[49m\u001b[38;5;241;43m=\u001b[39;49m\u001b[38;5;28;43;01mTrue\u001b[39;49;00m\u001b[43m,\u001b[49m\u001b[43m \u001b[49m\u001b[43maccumulate_grad\u001b[49m\u001b[38;5;241;43m=\u001b[39;49m\u001b[38;5;28;43;01mTrue\u001b[39;49;00m\u001b[43m)\u001b[49m\n",
      "\u001b[0;31mRuntimeError\u001b[0m: element 0 of tensors does not require grad and does not have a grad_fn"
     ]
    }
   ],
   "source": [
    "# create a tensor x\n",
    "x = torch.tensor(1.0)\n",
    "# create a tensor y\n",
    "y = torch.tensor(2.0)\n",
    "\n",
    "describe_tensor(x, name='x')\n",
    "describe_tensor(y, name='y')\n",
    "\n",
    "z = x * y\n",
    "describe_tensor(z, name='z')\n",
    "\n",
    "z.backward()"
   ]
  },
  {
   "cell_type": "code",
   "execution_count": 3,
   "id": "1c442bde",
   "metadata": {},
   "outputs": [
    {
     "name": "stdout",
     "output_type": "stream",
     "text": [
      "------------------------------\n",
      "Name:  \n",
      "------------------------------\n",
      "data :  tensor(2.)\n",
      "requires_grad :  True\n",
      "grad:  None\n",
      "grad_fn:  <MulBackward0 object at 0x107971cd0>\n",
      "is_leaf:  False\n",
      "==============================\n",
      "------------------------------\n",
      "Name:  x\n",
      "------------------------------\n",
      "data :  tensor(1.)\n",
      "requires_grad :  True\n",
      "grad:  tensor(2.)\n",
      "grad_fn:  None\n",
      "is_leaf:  True\n",
      "==============================\n",
      "------------------------------\n",
      "Name:  y\n",
      "------------------------------\n",
      "data :  tensor(2.)\n",
      "requires_grad :  False\n",
      "grad:  None\n",
      "grad_fn:  None\n",
      "is_leaf:  True\n",
      "==============================\n",
      "------------------------------\n",
      "Name:  z\n",
      "------------------------------\n",
      "data :  tensor(2.)\n",
      "requires_grad :  True\n",
      "grad:  None\n",
      "grad_fn:  <MulBackward0 object at 0x10794b490>\n",
      "is_leaf:  False\n",
      "==============================\n"
     ]
    },
    {
     "name": "stderr",
     "output_type": "stream",
     "text": [
      "/opt/miniconda3/envs/torch/lib/python3.9/site-packages/torch/_tensor.py:1083: UserWarning: The .grad attribute of a Tensor that is not a leaf Tensor is being accessed. Its .grad attribute won't be populated during autograd.backward(). If you indeed want the .grad field to be populated for a non-leaf Tensor, use .retain_grad() on the non-leaf Tensor. If you access the non-leaf Tensor by mistake, make sure you access the leaf Tensor instead. See github.com/pytorch/pytorch/pull/30531 for more informations. (Triggered internally at  /Users/runner/miniforge3/conda-bld/pytorch-recipe_1660136169395/work/build/aten/src/ATen/core/TensorBody.h:482.)\n",
      "  return self._grad\n"
     ]
    }
   ],
   "source": [
    "x = torch.tensor(1.0, requires_grad=True)\n",
    "z = x * y\n",
    "describe_tensor(z)\n",
    "\n",
    "# call .backward() now on z\n",
    "z.backward()\n",
    "\n",
    "# Now describe each tensor x, y and z\n",
    "describe_tensor(x, 'x')\n",
    "describe_tensor(y, 'y')\n",
    "describe_tensor(z, 'z')"
   ]
  },
  {
   "cell_type": "code",
   "execution_count": null,
   "id": "684f62a1",
   "metadata": {},
   "outputs": [],
   "source": []
  }
 ],
 "metadata": {
  "kernelspec": {
   "display_name": "Python 3 (ipykernel)",
   "language": "python",
   "name": "python3"
  },
  "language_info": {
   "codemirror_mode": {
    "name": "ipython",
    "version": 3
   },
   "file_extension": ".py",
   "mimetype": "text/x-python",
   "name": "python",
   "nbconvert_exporter": "python",
   "pygments_lexer": "ipython3",
   "version": "3.9.13"
  }
 },
 "nbformat": 4,
 "nbformat_minor": 5
}
